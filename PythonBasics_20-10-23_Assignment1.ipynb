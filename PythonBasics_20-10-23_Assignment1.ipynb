{
 "cells": [
  {
   "cell_type": "code",
   "execution_count": 1,
   "id": "8940391c",
   "metadata": {},
   "outputs": [
    {
     "name": "stdout",
     "output_type": "stream",
     "text": [
      "Enter 1st no.12\n",
      "Enter 2nd no.10\n",
      "The value  after swapping is 10 12\n"
     ]
    }
   ],
   "source": [
    "'''Declare two variables, `x` and `y`, and assign them integer values.\n",
    "Swap thevalues of these variables without using any temporary variable'''\n",
    "\n",
    "a=int(input(\"Enter 1st no.\"))\n",
    "b=int(input(\"Enter 2nd no.\"))\n",
    "a=a+b\n",
    "b=a-b\n",
    "a=a-b\n",
    "print(\"The value  after swapping is\" , a , b)"
   ]
  },
  {
   "cell_type": "code",
   "execution_count": 2,
   "id": "ef3933f2",
   "metadata": {},
   "outputs": [
    {
     "name": "stdout",
     "output_type": "stream",
     "text": [
      "Enter the length of  rectangle 12\n",
      "Enter the width of rectange 15\n",
      "The area of rectangle is: 180\n"
     ]
    }
   ],
   "source": [
    "\"\"\"Create a program that calculates the area of a rectangle. Take the length and\n",
    "width as inputs from the user and store them in variables. Calculate and\n",
    "display the area.\"\"\"\n",
    "\n",
    "l=int(input(\"Enter the length of  rectangle \"))\n",
    "w=int(input(\"Enter the width of rectange \"))\n",
    "area=l*w\n",
    "print(\"The area of rectangle is:\",area)"
   ]
  },
  {
   "cell_type": "code",
   "execution_count": 3,
   "id": "b70ed5df",
   "metadata": {},
   "outputs": [
    {
     "name": "stdout",
     "output_type": "stream",
     "text": [
      "Enter The Value of Temperature in Celsius25\n",
      "The Value of Temperature in Fahrenheit is :  77.0\n"
     ]
    }
   ],
   "source": [
    "\"\"\"Write a Python program that converts temperatures from Celsius to\n",
    "Fahrenheit. Take the temperature in Celsius as input, store it in a variable,\n",
    "convert it to Fahrenheit, and display the result.\"\"\"\n",
    "c=int(input(\"Enter The Value of Temperature in Celsius\"))\n",
    "f=c*(9/5)+32\n",
    "print(\"The Value of Temperature in Fahrenheit is : \", f )"
   ]
  },
  {
   "cell_type": "code",
   "execution_count": 4,
   "id": "2b019be3",
   "metadata": {},
   "outputs": [
    {
     "name": "stdout",
     "output_type": "stream",
     "text": [
      "Enter the string  Hello, Good Morning!\n",
      "The length of string is :  20\n"
     ]
    }
   ],
   "source": [
    "\"\"\"Write a Python program that takes a string as input and prints the length of\n",
    "the string.\"\"\"\n",
    "\n",
    "s=input(\"Enter the string  \")\n",
    "l=len(s)\n",
    "print(\"The length of string is : \", l)"
   ]
  },
  {
   "cell_type": "code",
   "execution_count": 5,
   "id": "45aecf1e",
   "metadata": {},
   "outputs": [
    {
     "name": "stdout",
     "output_type": "stream",
     "text": [
      "Enter the string :  Welcome\n",
      "Total numbers of vowels in string is :   3\n"
     ]
    }
   ],
   "source": [
    "\"\"\" Create a program that takes a sentence from the user and counts the number\n",
    "of vowels (a, e, i, o, u) in the string.\"\"\"\n",
    "s=input(\"Enter the string :  \")\n",
    "c=0\n",
    "for i in s:\n",
    "    if(i=='a' or i=='e' or i=='i' or i=='o' or i=='u' or i=='A' or i=='E' or i=='I' or i=='O' or i=='U'):\n",
    "        c=c+1\n",
    "print(\"Total numbers of vowels in string is :  \", c)\n",
    "        \n",
    "        \n",
    "    "
   ]
  },
  {
   "cell_type": "code",
   "execution_count": 6,
   "id": "f62666ee",
   "metadata": {},
   "outputs": [
    {
     "name": "stdout",
     "output_type": "stream",
     "text": [
      "Enter the string :  Hello\n",
      "5\n",
      "The reverse of string is :  olleH\n"
     ]
    }
   ],
   "source": [
    "\"\"\" Given a string, reverse the order of characters using string slicing and print\n",
    "the reversed string.\n",
    "\"\"\"\n",
    "s=input(\"Enter the string :  \")\n",
    "print(len(s))\n",
    "print(\"The reverse of string is : \", s[ : : -1])\n",
    "\n"
   ]
  },
  {
   "cell_type": "code",
   "execution_count": 23,
   "id": "97b959d1",
   "metadata": {},
   "outputs": [
    {
     "name": "stdout",
     "output_type": "stream",
     "text": [
      "Enter the string :  ABBA\n",
      "The string is palindrome\n"
     ]
    }
   ],
   "source": [
    "\"\"\" Write a program that takes a string as input and checks if it is a palindrome\n",
    "(reads the same forwards and backwards)\"\"\"\n",
    "s=input(\"Enter the string :  \")\n",
    "w = \"\"\n",
    "for i in s:\n",
    "    w = i + w\n",
    "    \n",
    "if(s==w):\n",
    "    print(\"The string is palindrome\")\n",
    "else:\n",
    "     print(\"The string is not palindrome\")    \n",
    "\n",
    "\n",
    "            \n",
    "                \n"
   ]
  },
  {
   "cell_type": "code",
   "execution_count": null,
   "id": "20bd6b89",
   "metadata": {},
   "outputs": [],
   "source": []
  },
  {
   "cell_type": "code",
   "execution_count": null,
   "id": "b1d342db",
   "metadata": {},
   "outputs": [],
   "source": []
  }
 ],
 "metadata": {
  "kernelspec": {
   "display_name": "Python 3 (ipykernel)",
   "language": "python",
   "name": "python3"
  },
  "language_info": {
   "codemirror_mode": {
    "name": "ipython",
    "version": 3
   },
   "file_extension": ".py",
   "mimetype": "text/x-python",
   "name": "python",
   "nbconvert_exporter": "python",
   "pygments_lexer": "ipython3",
   "version": "3.11.4"
  }
 },
 "nbformat": 4,
 "nbformat_minor": 5
}
